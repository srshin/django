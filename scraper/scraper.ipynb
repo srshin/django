{
 "cells": [
  {
   "cell_type": "code",
   "execution_count": 1,
   "metadata": {},
   "outputs": [],
   "source": [
    "#! pip install requests"
   ]
  },
  {
   "cell_type": "code",
   "execution_count": 2,
   "metadata": {},
   "outputs": [],
   "source": [
    "#!pip install bs4"
   ]
  },
  {
   "cell_type": "code",
   "execution_count": 3,
   "metadata": {},
   "outputs": [],
   "source": [
    "import requests\n",
    "from bs4 import BeautifulSoup as bs\n",
    "\n",
    "url = 'https://kmong.com/category/6?page=1'\n",
    "res = requests.get(url).text\n",
    "soup = bs(res, 'html.parser')\n",
    "product_list = soup.select('#gigAB > div > div > div')"
   ]
  },
  {
   "cell_type": "code",
   "execution_count": 4,
   "metadata": {
    "scrolled": false
   },
   "outputs": [],
   "source": [
    "from kmong.models import Outsourcing\n",
    "for product in product_list:\n",
    "    name = product.find(\"img\", {\"class\":\"gig-list-user-profile\"})['title']\n",
    "    title = product.find(\"img\", {\"class\":\"width-100\"})['title']\n",
    "    img_src = product.find(\"img\", {\"class\":\"width-100\"})['src']\n",
    "    detail_link = product.find(\"a\", {\"class\":\"plain\"})['href']\n",
    "    price = (product.find(\"span\", {\"class\":\"tahoma\"}).text).replace(\",\", \"\")\n",
    "    Outsourcing.objects.create(name=name, title=title, \n",
    "    img_src=img_src, detail_link=detail_link, price=price)"
   ]
  },
  {
   "cell_type": "code",
   "execution_count": null,
   "metadata": {},
   "outputs": [],
   "source": []
  }
 ],
 "metadata": {
  "kernelspec": {
   "display_name": "Django Shell-Plus",
   "language": "python",
   "name": "django_extensions"
  },
  "language_info": {
   "codemirror_mode": {
    "name": "ipython",
    "version": 3
   },
   "file_extension": ".py",
   "mimetype": "text/x-python",
   "name": "python",
   "nbconvert_exporter": "python",
   "pygments_lexer": "ipython3",
   "version": "3.6.8"
  }
 },
 "nbformat": 4,
 "nbformat_minor": 2
}
